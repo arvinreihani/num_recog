{
 "cells": [
  {
   "cell_type": "code",
   "execution_count": 100,
   "id": "5e886fc6-f5fb-47d4-b2b2-a6a709ea15e2",
   "metadata": {},
   "outputs": [],
   "source": [
    "import librosa"
   ]
  },
  {
   "cell_type": "code",
   "execution_count": 101,
   "id": "e281336f-f880-4b75-9961-bbea7d98dde4",
   "metadata": {},
   "outputs": [],
   "source": [
    "import numpy as np"
   ]
  },
  {
   "cell_type": "code",
   "execution_count": 102,
   "id": "ddd327a8-06f5-4590-b6d8-89a796795593",
   "metadata": {},
   "outputs": [],
   "source": [
    "import os"
   ]
  },
  {
   "cell_type": "code",
   "execution_count": 103,
   "id": "aca32b46-4cab-4886-ac10-24c1d65290d9",
   "metadata": {},
   "outputs": [],
   "source": [
    "def extract_features(file_path):\n",
    "    y, sr = librosa.load(file_path, sr=16000)\n",
    "    mfccs = librosa.feature.mfcc(y=y, sr=sr, n_mfcc=13)\n",
    "    mfccs_processed = np.mean(mfccs.T, axis=0)\n",
    "    return mfccs_processed"
   ]
  },
  {
   "cell_type": "code",
   "execution_count": 104,
   "id": "af0c5800-c061-4cc6-9f0e-f9d65e0bda9b",
   "metadata": {},
   "outputs": [],
   "source": [
    "X = []\n",
    "y = []\n",
    "\n",
    "for file in os.listdir('audio'):\n",
    "    if file.endswith('.wav'):\n",
    "        label = int(file[0])\n",
    "        features = extract_features(os.path.join('audio', file))\n",
    "        X.append(features)\n",
    "        y.append(label)"
   ]
  },
  {
   "cell_type": "code",
   "execution_count": 105,
   "id": "1de302f0-e0ae-4093-82c0-0a459ab8c929",
   "metadata": {},
   "outputs": [
    {
     "name": "stdout",
     "output_type": "stream",
     "text": [
      "Accuracy: 0.8\n"
     ]
    }
   ],
   "source": [
    "from sklearn.ensemble import RandomForestClassifier\n",
    "from sklearn.model_selection import train_test_split\n",
    "\n",
    "X_train, X_test, y_train, y_test = train_test_split(X, y, test_size=0.2)\n",
    "\n",
    "clf = RandomForestClassifier()\n",
    "clf.fit(X_train, y_train)\n",
    "\n",
    "accuracy = clf.score(X_test, y_test)\n",
    "print(\"Accuracy:\", accuracy)\n"
   ]
  },
  {
   "cell_type": "code",
   "execution_count": 106,
   "id": "e7cf40da-66db-401a-97aa-ab2cd619fd2e",
   "metadata": {},
   "outputs": [
    {
     "name": "stdout",
     "output_type": "stream",
     "text": [
      "Predicted Digit: 5\n"
     ]
    }
   ],
   "source": [
    "new_features = extract_features('test_audio.wav')\n",
    "predicted = clf.predict([new_features])\n",
    "print(\"Predicted Digit:\", predicted[0])\n"
   ]
  },
  {
   "cell_type": "code",
   "execution_count": null,
   "id": "a7a2c562-4e70-48a4-9c04-e6389082fb37",
   "metadata": {},
   "outputs": [],
   "source": []
  },
  {
   "cell_type": "code",
   "execution_count": null,
   "id": "014b83f8-de48-4bfe-b13f-d93dc614b934",
   "metadata": {},
   "outputs": [],
   "source": []
  }
 ],
 "metadata": {
  "kernelspec": {
   "display_name": "Python [conda env:base] *",
   "language": "python",
   "name": "conda-base-py"
  },
  "language_info": {
   "codemirror_mode": {
    "name": "ipython",
    "version": 3
   },
   "file_extension": ".py",
   "mimetype": "text/x-python",
   "name": "python",
   "nbconvert_exporter": "python",
   "pygments_lexer": "ipython3",
   "version": "3.12.3"
  }
 },
 "nbformat": 4,
 "nbformat_minor": 5
}
